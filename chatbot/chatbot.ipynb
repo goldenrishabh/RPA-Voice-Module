{
 "cells": [
  {
   "cell_type": "code",
   "execution_count": 1,
   "metadata": {},
   "outputs": [
    {
     "name": "stderr",
     "output_type": "stream",
     "text": [
      "/usr/lib/python3/dist-packages/requests/__init__.py:89: RequestsDependencyWarning: urllib3 (1.26.7) or chardet (3.0.4) doesn't match a supported version!\n",
      "  warnings.warn(\"urllib3 ({}) or chardet ({}) doesn't match a supported \"\n"
     ]
    }
   ],
   "source": [
    "import random\n",
    "import json\n",
    "import numpy as np\n",
    "import pickle\n",
    "\n",
    "import nltk\n",
    "from nltk.stem import WordNetLemmatizer\n",
    "\n",
    "from tensorflow.keras.models import Sequential\n",
    "from tensorflow.keras.layers import Dense, Activation,Dropout\n",
    "from tensorflow.keras.optimizers import SGD\n",
    "from tensorflow.python.keras.backend import dropout"
   ]
  },
  {
   "cell_type": "code",
   "execution_count": 3,
   "metadata": {},
   "outputs": [],
   "source": [
    "lemmatizer = WordNetLemmatizer()"
   ]
  },
  {
   "cell_type": "code",
   "execution_count": 12,
   "metadata": {},
   "outputs": [],
   "source": [
    "intents = json.loads(open('intents.json').read())"
   ]
  },
  {
   "cell_type": "code",
   "execution_count": 13,
   "metadata": {},
   "outputs": [
    {
     "data": {
      "text/plain": [
       "{'intents': [{'tag': 'greetings',\n",
       "   'patterns': ['hello',\n",
       "    'hi',\n",
       "    'hey',\n",
       "    'good day',\n",
       "    'greetings',\n",
       "    \"what's up?\",\n",
       "    'how is it going?'],\n",
       "   'responses': ['Hello!', 'Hey!', 'What can I do for you?']},\n",
       "  {'tag': 'bye',\n",
       "   'patterns': ['bye bye', 'goodbye', 'see you later', 'see ya'],\n",
       "   'responses': ['Goodbye!', 'Come back soon!', 'See ya! Will miss you']},\n",
       "  {'tag': 'happy',\n",
       "   'patterns': ['good day', 'awesome', 'excellent', 'amazing', 'nice'],\n",
       "   'responses': ['wow thats great!', 'I am happy for you', 'Nicee']},\n",
       "  {'tag': 'sad',\n",
       "   'patterns': ['not good', 'okish', 'bad', 'worst', 'frown'],\n",
       "   'responses': ['well...cheer up! Just as master Oogway says, \"There are no accidents\" ']}]}"
      ]
     },
     "execution_count": 13,
     "metadata": {},
     "output_type": "execute_result"
    }
   ],
   "source": [
    "intents"
   ]
  },
  {
   "cell_type": "code",
   "execution_count": 14,
   "metadata": {},
   "outputs": [],
   "source": [
    "words = []\n",
    "classes = []\n",
    "documents = []\n",
    "ignore_letters =['?','!',\".\",\",\"]\n",
    "\n",
    "for intent in intents['intents']:\n",
    "    for pattern in intent['patterns']:\n",
    "        word_list = nltk.word_tokenize(pattern)\n",
    "        words.extend(word_list)\n",
    "        documents.append((word_list,intent['tag']))\n",
    "        if intent['tag'] not in classes:\n",
    "            classes.append(intent['tag'])"
   ]
  },
  {
   "cell_type": "code",
   "execution_count": 15,
   "metadata": {},
   "outputs": [
    {
     "data": {
      "text/plain": [
       "['hello',\n",
       " 'hi',\n",
       " 'hey',\n",
       " 'good',\n",
       " 'day',\n",
       " 'greetings',\n",
       " 'what',\n",
       " \"'s\",\n",
       " 'up',\n",
       " '?',\n",
       " 'how',\n",
       " 'is',\n",
       " 'it',\n",
       " 'going',\n",
       " '?',\n",
       " 'bye',\n",
       " 'bye',\n",
       " 'goodbye',\n",
       " 'see',\n",
       " 'you',\n",
       " 'later',\n",
       " 'see',\n",
       " 'ya',\n",
       " 'good',\n",
       " 'day',\n",
       " 'awesome',\n",
       " 'excellent',\n",
       " 'amazing',\n",
       " 'nice',\n",
       " 'not',\n",
       " 'good',\n",
       " 'okish',\n",
       " 'bad',\n",
       " 'worst',\n",
       " 'frown']"
      ]
     },
     "execution_count": 15,
     "metadata": {},
     "output_type": "execute_result"
    }
   ],
   "source": [
    "words"
   ]
  },
  {
   "cell_type": "code",
   "execution_count": 16,
   "metadata": {},
   "outputs": [
    {
     "data": {
      "text/plain": [
       "['greetings', 'bye', 'happy', 'sad']"
      ]
     },
     "execution_count": 16,
     "metadata": {},
     "output_type": "execute_result"
    }
   ],
   "source": [
    "classes"
   ]
  },
  {
   "cell_type": "code",
   "execution_count": 17,
   "metadata": {},
   "outputs": [
    {
     "data": {
      "text/plain": [
       "[(['hello'], 'greetings'),\n",
       " (['hi'], 'greetings'),\n",
       " (['hey'], 'greetings'),\n",
       " (['good', 'day'], 'greetings'),\n",
       " (['greetings'], 'greetings'),\n",
       " (['what', \"'s\", 'up', '?'], 'greetings'),\n",
       " (['how', 'is', 'it', 'going', '?'], 'greetings'),\n",
       " (['bye', 'bye'], 'bye'),\n",
       " (['goodbye'], 'bye'),\n",
       " (['see', 'you', 'later'], 'bye'),\n",
       " (['see', 'ya'], 'bye'),\n",
       " (['good', 'day'], 'happy'),\n",
       " (['awesome'], 'happy'),\n",
       " (['excellent'], 'happy'),\n",
       " (['amazing'], 'happy'),\n",
       " (['nice'], 'happy'),\n",
       " (['not', 'good'], 'sad'),\n",
       " (['okish'], 'sad'),\n",
       " (['bad'], 'sad'),\n",
       " (['worst'], 'sad'),\n",
       " (['frown'], 'sad')]"
      ]
     },
     "execution_count": 17,
     "metadata": {},
     "output_type": "execute_result"
    }
   ],
   "source": [
    "documents"
   ]
  },
  {
   "cell_type": "code",
   "execution_count": 18,
   "metadata": {},
   "outputs": [],
   "source": [
    "words = [lemmatizer.lemmatize(word) for word in words if word not in ignore_letters]\n",
    "words = sorted(set(words))"
   ]
  },
  {
   "cell_type": "code",
   "execution_count": 19,
   "metadata": {},
   "outputs": [
    {
     "data": {
      "text/plain": [
       "[\"'s\",\n",
       " 'amazing',\n",
       " 'awesome',\n",
       " 'bad',\n",
       " 'bye',\n",
       " 'day',\n",
       " 'excellent',\n",
       " 'frown',\n",
       " 'going',\n",
       " 'good',\n",
       " 'goodbye',\n",
       " 'greeting',\n",
       " 'hello',\n",
       " 'hey',\n",
       " 'hi',\n",
       " 'how',\n",
       " 'is',\n",
       " 'it',\n",
       " 'later',\n",
       " 'nice',\n",
       " 'not',\n",
       " 'okish',\n",
       " 'see',\n",
       " 'up',\n",
       " 'what',\n",
       " 'worst',\n",
       " 'ya',\n",
       " 'you']"
      ]
     },
     "execution_count": 19,
     "metadata": {},
     "output_type": "execute_result"
    }
   ],
   "source": [
    "words"
   ]
  },
  {
   "cell_type": "code",
   "execution_count": 22,
   "metadata": {},
   "outputs": [],
   "source": [
    "classes = sorted(set(classes))\n",
    "pickle.dump(words, open('words.pkl','wb'))\n",
    "pickle.dump(classes , open('classes.pkl','wb'))"
   ]
  },
  {
   "cell_type": "code",
   "execution_count": 21,
   "metadata": {},
   "outputs": [
    {
     "data": {
      "text/plain": [
       "['bye', 'greetings', 'happy', 'sad']"
      ]
     },
     "execution_count": 21,
     "metadata": {},
     "output_type": "execute_result"
    }
   ],
   "source": [
    "classes"
   ]
  },
  {
   "cell_type": "code",
   "execution_count": 23,
   "metadata": {},
   "outputs": [],
   "source": [
    "training = []\n",
    "output_empty = [0] * len(classes)"
   ]
  },
  {
   "cell_type": "code",
   "execution_count": 30,
   "metadata": {},
   "outputs": [
    {
     "data": {
      "text/plain": [
       "4"
      ]
     },
     "execution_count": 30,
     "metadata": {},
     "output_type": "execute_result"
    }
   ],
   "source": [
    "len(output_empty)"
   ]
  },
  {
   "cell_type": "code",
   "execution_count": 31,
   "metadata": {},
   "outputs": [],
   "source": [
    "for document in documents:\n",
    "    bag = []\n",
    "    word_patterns = document[0]\n",
    "    word_patterns = [lemmatizer.lemmatize(word.lower()) for word in word_patterns]\n",
    "    for word in words:\n",
    "        bag.append(1) if word in word_patterns else bag.append(0)\n",
    "        \n",
    "    output_row = list(output_empty)\n",
    "    output_row[classes.index(document[1])] = 1\n",
    "    training.append([bag, output_row])"
   ]
  },
  {
   "cell_type": "code",
   "execution_count": 33,
   "metadata": {},
   "outputs": [
    {
     "data": {
      "text/plain": [
       "[[0,\n",
       "  0,\n",
       "  0,\n",
       "  0,\n",
       "  0,\n",
       "  0,\n",
       "  0,\n",
       "  0,\n",
       "  0,\n",
       "  0,\n",
       "  0,\n",
       "  0,\n",
       "  0,\n",
       "  0,\n",
       "  1,\n",
       "  0,\n",
       "  0,\n",
       "  0,\n",
       "  0,\n",
       "  0,\n",
       "  0,\n",
       "  0,\n",
       "  0,\n",
       "  0,\n",
       "  0,\n",
       "  0,\n",
       "  0,\n",
       "  0],\n",
       " [0, 1, 0, 0]]"
      ]
     },
     "execution_count": 33,
     "metadata": {},
     "output_type": "execute_result"
    }
   ],
   "source": [
    "training[1]"
   ]
  },
  {
   "cell_type": "code",
   "execution_count": null,
   "metadata": {},
   "outputs": [],
   "source": []
  }
 ],
 "metadata": {
  "interpreter": {
   "hash": "916dbcbb3f70747c44a77c7bcd40155683ae19c65e1c03b4aa3499c5328201f1"
  },
  "kernelspec": {
   "display_name": "Python 3.8.10 64-bit",
   "language": "python",
   "name": "python3"
  },
  "language_info": {
   "codemirror_mode": {
    "name": "ipython",
    "version": 3
   },
   "file_extension": ".py",
   "mimetype": "text/x-python",
   "name": "python",
   "nbconvert_exporter": "python",
   "pygments_lexer": "ipython3",
   "version": "3.8.10"
  },
  "orig_nbformat": 4
 },
 "nbformat": 4,
 "nbformat_minor": 2
}
